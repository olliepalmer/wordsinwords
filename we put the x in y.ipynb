{
 "cells": [
  {
   "cell_type": "markdown",
   "metadata": {},
   "source": [
    "# Words in Words"
   ]
  },
  {
   "cell_type": "code",
   "execution_count": 1,
   "metadata": {},
   "outputs": [
    {
     "data": {
      "text/plain": [
       "[0, 5, 10, 15, 21]"
      ]
     },
     "execution_count": 1,
     "metadata": {},
     "output_type": "execute_result"
    }
   ],
   "source": [
    "# test finding with re to start\n",
    "import re\n",
    "[m.start() for m in re.finditer('test','tester test test testy test')]"
   ]
  },
  {
   "cell_type": "code",
   "execution_count": null,
   "metadata": {},
   "outputs": [],
   "source": [
    "words = []\n",
    "\n",
    "with open('words_alpha.txt','r') as a:\n",
    "    for word in a:\n",
    "        words.append(word)\n",
    "print (len(words))"
   ]
  },
  {
   "cell_type": "code",
   "execution_count": 12,
   "metadata": {},
   "outputs": [],
   "source": [
    "def contains_word(s,w):\n",
    "    return f' {w} ' in f' {s} '"
   ]
  },
  {
   "cell_type": "code",
   "execution_count": 16,
   "metadata": {},
   "outputs": [
    {
     "data": {
      "text/plain": [
       "False"
      ]
     },
     "execution_count": 16,
     "metadata": {},
     "output_type": "execute_result"
    }
   ],
   "source": [
    "contains_word('string to be searched','word to search for')"
   ]
  },
  {
   "cell_type": "code",
   "execution_count": 19,
   "metadata": {},
   "outputs": [
    {
     "name": "stdout",
     "output_type": "stream",
     "text": [
      "True\n"
     ]
    }
   ],
   "source": [
    "if contains_word('string to be searched','searched'):\n",
    "    print ('True')"
   ]
  },
  {
   "cell_type": "code",
   "execution_count": 31,
   "metadata": {},
   "outputs": [
    {
     "name": "stdout",
     "output_type": "stream",
     "text": [
      "['simple', 'basic']\n"
     ]
    }
   ],
   "source": [
    "import re\n",
    "\n",
    "def f(s, pat):(\n",
    "    pat = r'(\\w*%s\\w*)' % pat       # Not thrilled about this line\n",
    "    return re.findall(pat, s)\n",
    "\n",
    "print (f(\"This is just a simple text to test some basic things\", \"si\")))"
   ]
  },
  {
   "cell_type": "code",
   "execution_count": 57,
   "metadata": {},
   "outputs": [
    {
     "name": "stdout",
     "output_type": "stream",
     "text": [
      "we put the \"is\" in \"this\"\n"
     ]
    }
   ],
   "source": [
    "import re\n",
    "\n",
    "def f(s, pat):\n",
    "    pat = r'(\\w*%s\\w*)' % pat       # Not thrilled about this line\n",
    "    return re.findall(pat, s)\n",
    "\n",
    "# print (f(\"This is just a simple text to test some basic things\", \"si\"))\n",
    "\n",
    "with open('words_alpha.txt','r') as a:\n",
    "    for wordtofind in a:\n",
    "        with open('words_alpha.txt','r') as b:\n",
    "            for wordtosearch in b:\n",
    "                if (f(wordtosearch,wordtofind) != []) and (wordtosearch != wordtofind):\n",
    "                    print('we put the \\\"'+str.rstrip(wordtofind)+'\\\" in \\\"'+str.rstrip(wordtosearch)+'\\\"')"
   ]
  },
  {
   "cell_type": "code",
   "execution_count": null,
   "metadata": {},
   "outputs": [],
   "source": [
    "import re\n",
    "\n",
    "def f(s, pat):\n",
    "    pat = r'(\\w*%s\\w*)' % pat       # Not thrilled about this line\n",
    "    return re.findall(pat, s)\n",
    "\n",
    "# print (f(\"This is just a simple text to test some basic things\", \"si\"))\n",
    "\n",
    "with open('words_alpha.txt','r') as a:\n",
    "    for wordtofind in a:\n",
    "        if (len(str.rstrip(wordtofind)) > 1):\n",
    "            with open('words_alpha.txt','r') as b:\n",
    "                for wordtosearch in b:\n",
    "                    if (f(wordtosearch,wordtofind) != []) and (wordtosearch != wordtofind) and (len(wordtofind) > 1):\n",
    "                        text = 'We put the \\\"'+str.rstrip(wordtofind)+'\\\" in \\\"'+str.rstrip(wordtosearch)+'\\\"\\n'\n",
    "                        with open('we_put_the_x_in_y.txt','a') as out:\n",
    "                            out.write(text)"
   ]
  },
  {
   "cell_type": "code",
   "execution_count": 64,
   "metadata": {},
   "outputs": [
    {
     "name": "stdout",
     "output_type": "stream",
     "text": [
      "2\n"
     ]
    }
   ],
   "source": [
    "wordtosearch = 'aa'\n",
    "print (len(wordtosearch))\n"
   ]
  },
  {
   "cell_type": "code",
   "execution_count": null,
   "metadata": {},
   "outputs": [],
   "source": []
  }
 ],
 "metadata": {
  "kernelspec": {
   "display_name": "Python 3",
   "language": "python",
   "name": "python3"
  },
  "language_info": {
   "codemirror_mode": {
    "name": "ipython",
    "version": 3
   },
   "file_extension": ".py",
   "mimetype": "text/x-python",
   "name": "python",
   "nbconvert_exporter": "python",
   "pygments_lexer": "ipython3",
   "version": "3.7.0"
  }
 },
 "nbformat": 4,
 "nbformat_minor": 2
}
