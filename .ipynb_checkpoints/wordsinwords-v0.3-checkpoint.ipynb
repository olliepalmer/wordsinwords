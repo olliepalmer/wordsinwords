{
 "cells": [
  {
   "cell_type": "code",
   "execution_count": 4,
   "metadata": {},
   "outputs": [
    {
     "ename": "NameError",
     "evalue": "name 'q' is not defined",
     "output_type": "error",
     "traceback": [
      "\u001b[1;31m---------------------------------------------------------------------------\u001b[0m",
      "\u001b[1;31mNameError\u001b[0m                                 Traceback (most recent call last)",
      "\u001b[1;32m<timed exec>\u001b[0m in \u001b[0;36m<module>\u001b[1;34m\u001b[0m\n",
      "\u001b[1;32m<timed exec>\u001b[0m in \u001b[0;36mupdateShort\u001b[1;34m(short, long)\u001b[0m\n",
      "\u001b[1;31mNameError\u001b[0m: name 'q' is not defined"
     ]
    }
   ],
   "source": [
    "%%time\n",
    "\n",
    "# wordsinwords v0.3\n",
    "\n",
    "from tinydb import TinyDB, Query\n",
    "db = TinyDB('db.json')\n",
    "q = Query()\n",
    "wordlist = 'words_alpha.txt'\n",
    "# wordlist = 'words.txt'\n",
    "\n",
    "# uncomment this if you want to start afresh\n",
    "db.drop_tables()\n",
    "\n",
    "\n",
    "def updateShort(short, long):\n",
    "    if (db.get(q.word == short) == None):\n",
    "        db.insert({'word':short,'in':[long],'contains':[]})\n",
    "    else:\n",
    "        in_ = db.get(q.word == short)['in']\n",
    "        in_.append(long) if long not in in_ else in_\n",
    "        db.upsert({'word':short,'in':in_},q.word==short)\n",
    "        \n",
    "def updateLong(short, long):\n",
    "    if (db.get(q.word == long) == None):\n",
    "        db.insert({'word':long,'in':[],'contains':[short]})\n",
    "    else:\n",
    "        contains_ = db.get(q.word == long)['contains']\n",
    "        contains_.append(short) if short not in contains_ else contains_\n",
    "        db.upsert({'word':long,'contains':contains_},q.word==long)\n",
    "\n",
    "with open(wordlist,'r') as a:\n",
    "    for short in a:\n",
    "        short = short.rstrip(\"\\r\\n\")\n",
    "        with open(wordlist,'r') as b:\n",
    "            for long in b:\n",
    "                long = long.rstrip(\"\\r\\n\")\n",
    "                if (long.count(short) > 0 and long != short and len(long) > 1):\n",
    "                    updateShort(short,long)\n",
    "                    updateLong(short,long)\n",
    "                    print (short,'is in',long)"
   ]
  },
  {
   "cell_type": "code",
   "execution_count": 106,
   "metadata": {},
   "outputs": [
    {
     "name": "stdout",
     "output_type": "stream",
     "text": [
      "{'word': 'android', 'in': [], 'contains': ['an']}\n",
      "{'word': 'androgenous', 'in': [], 'contains': ['an']}\n",
      "{'word': 'aardvark', 'in': [], 'contains': ['ark']}\n",
      "{'word': 'an', 'in': ['android', 'anteater', 'archangel', 'ant', 'antelope', 'antennae', 'androgenous', 'angle', 'angled', 'angel'], 'contains': []}\n",
      "{'word': 'antelope', 'in': [], 'contains': ['an', 'ant']}\n",
      "{'word': 'angel', 'in': ['archangel'], 'contains': ['an']}\n",
      "{'word': 'androgenous', 'in': [], 'contains': ['an']}\n",
      "{'word': 'aardvark', 'in': [], 'contains': ['ark']}\n",
      "{'word': 'android', 'in': [], 'contains': ['an']}\n",
      "{'word': 'antelope', 'in': [], 'contains': ['an', 'ant']}\n",
      "Wall time: 5 ms\n"
     ]
    }
   ],
   "source": [
    "%%time\n",
    "\n",
    "# print some demo words\n",
    "\n",
    "import random\n",
    "\n",
    "def randomWord(wordlist):\n",
    "    word = random.choice(list(open(wordlist))).rstrip(\"\\r\\n\")\n",
    "    print(db.get(q.word == word))\n",
    "\n",
    "for i in range(10):\n",
    "    randomWord(wordlist)"
   ]
  }
 ],
 "metadata": {
  "kernelspec": {
   "display_name": "Python 3",
   "language": "python",
   "name": "python3"
  },
  "language_info": {
   "codemirror_mode": {
    "name": "ipython",
    "version": 3
   },
   "file_extension": ".py",
   "mimetype": "text/x-python",
   "name": "python",
   "nbconvert_exporter": "python",
   "pygments_lexer": "ipython3",
   "version": "3.7.6"
  }
 },
 "nbformat": 4,
 "nbformat_minor": 4
}
